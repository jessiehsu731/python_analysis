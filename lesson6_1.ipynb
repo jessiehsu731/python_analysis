{
 "cells": [
  {
   "cell_type": "code",
   "execution_count": null,
   "metadata": {},
   "outputs": [],
   "source": [
    "#https://requests.readthedocs.io/en/latest/api/\n",
    "#requests是module--module可能會提供function、class、常數，class是專門建立實體\n",
    "import requests \n",
    "from requests import Response\n",
    "url = 'https://rate.bot.com.tw/xrt?Lang=zh-TW'\n",
    "response = requests.get(url)\n",
    "\n",
    "#想要知道response是哪個實體做的\n",
    "type(response)\n",
    "\n",
    "print(response.text)\n",
    "\n",
    "#跑出來的結果是下載的所有的html(CSS沒有被下載) CSS是美編\n",
    "#html CSS 網頁設計師  javascript 前端工程師"
   ]
  },
  {
   "cell_type": "code",
   "execution_count": 18,
   "metadata": {},
   "outputs": [
    {
     "name": "stdout",
     "output_type": "stream",
     "text": [
      "<class 'bs4.element.Tag'>\n",
      "Hello, BeautifulSoup!\n",
      "{}\n",
      "None\n",
      "Hello, BeautifulSoup!\n",
      "Hello, BeautifulSoup!\n",
      "Hello, BeautifulSoup!\n"
     ]
    }
   ],
   "source": [
    "#解析網頁 beautiful soup\n",
    "from bs4 import BeautifulSoup  #'''三個點代表有很多行文字\n",
    "html = '''  \n",
    "<html>\n",
    "    <body>\n",
    "        <h1>Hello, BeautifulSoup!</h1>\n",
    "    </body>\n",
    "</html>\n",
    "'''\n",
    "\n",
    "\n",
    "soup = BeautifulSoup(html, \"html.parser\")\n",
    "type(soup)\n",
    "h1_element = soup.h1\n",
    "h1_element\n",
    "print(type(h1_element))\n",
    "print(h1_element.text)\n",
    "print(h1_element.attrs)\n",
    "print(h1_element.names)\n",
    "print(h1_element.get_text())\n",
    "print(h1_element.string)\n",
    "print(h1_element.text)\n",
    "                     "
   ]
  },
  {
   "cell_type": "code",
   "execution_count": 22,
   "metadata": {},
   "outputs": [
    {
     "data": {
      "text/plain": [
       "bs4.element.ResultSet"
      ]
     },
     "execution_count": 22,
     "metadata": {},
     "output_type": "execute_result"
    }
   ],
   "source": [
    "html = \"\"\"\n",
    "<html>\n",
    "    <body>\n",
    "        <p class='content'>Paragraph 1</p>\n",
    "        <p class='content'>Paragraph 2</p>\n",
    "    </body>\n",
    "</html>\n",
    "\"\"\"\n",
    "\n",
    "soup = BeautifulSoup(html, \"html.parser\")\n",
    "p_elements = soup.find_all(\"p\", class_=\"content\") #找到所有class為content的<p>標籤\n",
    "type(p_elements)"
   ]
  }
 ],
 "metadata": {
  "kernelspec": {
   "display_name": "base",
   "language": "python",
   "name": "python3"
  },
  "language_info": {
   "codemirror_mode": {
    "name": "ipython",
    "version": 3
   },
   "file_extension": ".py",
   "mimetype": "text/x-python",
   "name": "python",
   "nbconvert_exporter": "python",
   "pygments_lexer": "ipython3",
   "version": "3.12.3"
  }
 },
 "nbformat": 4,
 "nbformat_minor": 2
}
