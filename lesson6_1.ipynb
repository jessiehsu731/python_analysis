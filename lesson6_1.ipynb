{
 "cells": [
  {
   "cell_type": "code",
   "execution_count": null,
   "metadata": {},
   "outputs": [],
   "source": [
    "#https://requests.readthedocs.io/en/latest/api/\n",
    "#requests是module--module可能會提供function、class、常數，class是專門建立實體\n",
    "import requests \n",
    "from requests import Response\n",
    "url = 'https://rate.bot.com.tw/xrt?Lang=zh-TW'\n",
    "response = requests.get(url)\n",
    "\n",
    "#想要知道response是哪個實體做的\n",
    "type(response)\n",
    "\n",
    "print(response.text)\n",
    "\n",
    "#跑出來的結果是下載的所有的html(CSS沒有被下載)"
   ]
  },
  {
   "cell_type": "code",
   "execution_count": null,
   "metadata": {},
   "outputs": [],
   "source": [
    "#解析網頁 beautiful soup"
   ]
  }
 ],
 "metadata": {
  "kernelspec": {
   "display_name": "base",
   "language": "python",
   "name": "python3"
  },
  "language_info": {
   "codemirror_mode": {
    "name": "ipython",
    "version": 3
   },
   "file_extension": ".py",
   "mimetype": "text/x-python",
   "name": "python",
   "nbconvert_exporter": "python",
   "pygments_lexer": "ipython3",
   "version": "3.12.3"
  }
 },
 "nbformat": 4,
 "nbformat_minor": 2
}
