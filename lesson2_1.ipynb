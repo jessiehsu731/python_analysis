{
 "cells": [
  {
   "cell_type": "code",
   "execution_count": 33,
   "metadata": {},
   "outputs": [
    {
     "name": "stdout",
     "output_type": "stream",
     "text": [
      "10\n",
      "20\n"
     ]
    },
    {
     "data": {
      "text/plain": [
       "20"
      ]
     },
     "execution_count": 33,
     "metadata": {},
     "output_type": "execute_result"
    }
   ],
   "source": [
    "#python內建函式 https://docs.python.org/zh-tw/3/library/functions.html\n",
    "#上課網址\n",
    "print(2*(1 + 2) ** 2 - 2 ** 2 * 2)    #先括號、後次方，再乘除最後加減\n",
    "print((2+3)*4)                        #print是讓內容顯示在底下，但是沒有傳出東西\n",
    "((2+3)*4)                             #can output"
   ]
  },
  {
   "cell_type": "code",
   "execution_count": 34,
   "metadata": {},
   "outputs": [
    {
     "name": "stdout",
     "output_type": "stream",
     "text": [
      "17\n"
     ]
    }
   ],
   "source": [
    "n = 1 + 5            #n is variable，=不會傳出東西\n",
    "n                    #單獨寫變數，就是傳出內容\n",
    "m = n + 5            #save n + 5 to m       \n",
    "\n",
    "print(n + m)         #print just show, not output something"
   ]
  },
  {
   "cell_type": "code",
   "execution_count": null,
   "metadata": {},
   "outputs": [
    {
     "name": "stdout",
     "output_type": "stream",
     "text": [
      "<class 'str'>\n"
     ]
    }
   ],
   "source": [
    "#one ipynb create one 記憶體區塊, can store variables\n",
    "#prompt   參數\n",
    "#input()  is function\n",
    "\n",
    "#input('請輸入X的值:')           #input會傳出東西的，傳出字串str'45'\n",
    "X = input('請輸入X的值:')        #Input 輸出是字串str，無法直接和數字運算\n",
    "\n",
    "#if you don't know they type of variable, use {function type()} to check\n",
    "print(type(X))\n",
    "\n",
    "#{function float()}回傳從數字或字串生成的浮點數，float is a function, so do first.\n",
    "result = float(X) + 10          #result此時資料格式是浮點數   \n"
   ]
  },
  {
   "cell_type": "code",
   "execution_count": 12,
   "metadata": {},
   "outputs": [
    {
     "name": "stdout",
     "output_type": "stream",
     "text": [
      "4--7--8.0--hello..\n",
      "4--7--8.0--hello.\n"
     ]
    }
   ],
   "source": [
    "#print(*objects, sep=' ', end='\\n', file=None, flush=False)\n",
    "#總共有5個[參數]\n",
    "#有*號的代表沒有限制數量的[引數值]，沒有輸入也可以，就會只有end換行\n",
    "#後面有等號的就有預設值的參數，這些default可以忽略，就使用原本的default\n",
    "#\\n is 換行符號\n",
    "\n",
    "#c.f.\n",
    "#input() or input(prompt) 沒有引數值或是只有一個引數值\n",
    "\n",
    "radius = float(input('請輸入半徑:'))\n",
    "print(4,7,8.0,'hello', sep='--', end='..\\n')  #end代表最後輸出一個.以及\\n換行\n",
    "\n",
    "#呼叫 前面一定是引數值(4,7,8.0,'hello')，後面一定是引數名稱(有default那些)，引數名稱呼叫可以不依照順序，就是可以end再sep\n",
    "print(4,7,8.0,'hello', end='.\\n', sep='--')"
   ]
  },
  {
   "cell_type": "code",
   "execution_count": 16,
   "metadata": {},
   "outputs": [
    {
     "name": "stdout",
     "output_type": "stream",
     "text": [
      "123\n",
      "\n",
      "11\n",
      "<class 'str'>\n"
     ]
    }
   ],
   "source": [
    "print('123')\n",
    "#有*號的代表沒有限制數量的[引數值]，沒有輸入也可以，就會只有end換行\n",
    "print()\n",
    "print(11)\n",
    "print(type('123'))"
   ]
  },
  {
   "cell_type": "code",
   "execution_count": 26,
   "metadata": {},
   "outputs": [
    {
     "name": "stdout",
     "output_type": "stream",
     "text": [
      "半徑: 10.0\n",
      "直徑: 20.0\n",
      "圓周長: 62.83185317\n",
      "園面積: 314.15926585\n"
     ]
    }
   ],
   "source": [
    "#先做的先打，通常是最內層的步驟先打\n",
    "radius = float(input('請輸入半徑:'))                       #radius是浮點數\n",
    "diameter = 2 * radius                                     #diameter是浮點數\n",
    "circumference = 2 * 3.1415926585 *radius\n",
    "area = 3.1415926585 * radius ** 2\n",
    "\n",
    "print('半徑:', radius)                                     #print沒有限定引數值\n",
    "print('直徑:', diameter)\n",
    "print('圓周長:', circumference)\n",
    "print('園面積:', area)   \n",
    "\n",
    "### 上面是內建的function ###        "
   ]
  },
  {
   "cell_type": "code",
   "execution_count": null,
   "metadata": {},
   "outputs": [
    {
     "name": "stdout",
     "output_type": "stream",
     "text": [
      "對邊: 1.0\n",
      "臨邊: 3.0\n",
      "斜邊: 3.1622776601683795\n"
     ]
    }
   ],
   "source": [
    "### math是內部的Module ###\n",
    "#需要用import叫出來，像R的library\n",
    "\n",
    "#math module 函式庫/工具箱/模組 中有 {function sqrt(x)}可以取平方根\n",
    "#To use module, need to {import} module first\n",
    "\n",
    "import math\n",
    "side = float(input('請輸入對邊'))\n",
    "another_side = float(input('請輸入臨邊'))\n",
    "#side ** 2 + another_side **2 \n",
    "each_side = math.sqrt(side ** 2 + another_side **2 )       #傳出的是float浮點數\n",
    "print('對邊:', side)\n",
    "print('臨邊:', another_side)\n",
    "print('斜邊:', each_side)\n",
    "\n"
   ]
  },
  {
   "cell_type": "code",
   "execution_count": 36,
   "metadata": {},
   "outputs": [
    {
     "name": "stdout",
     "output_type": "stream",
     "text": [
      "數據集 [2 4 4 4 5 5 7 9]\n",
      "標準差: 2.0\n",
      "樣本標準差: 2.138089935299395\n"
     ]
    }
   ],
   "source": [
    "### numpy是外部的module ###\n",
    "#需要用終端機pip下載\n",
    "\n",
    "#numpy 是數學統計運算會用到的package\n",
    "import numpy as np #電腦原本沒有，需要下載\n",
    "#電腦中有container，container中有base的虛擬環境，base中有python3.12和pip\n",
    "#pip is 套件管理程式\n",
    "#在終端機(base)之下輸入{pip install numpy}，即可完成下載\n",
    "\n",
    "import numpy as np\n",
    "data = np.array([2, 4, 4, 4, 5, 5, 7, 9])\n",
    "std_dev = np.std(data) #標準差\n",
    "\n",
    "print('數據集', data)\n",
    "print('標準差:', std_dev)\n",
    "\n",
    "sample_std = np.std(data, ddof = 1) #樣本標準差\n",
    "print('樣本標準差:', sample_std)"
   ]
  },
  {
   "cell_type": "code",
   "execution_count": 37,
   "metadata": {},
   "outputs": [],
   "source": [
    "### 資料結構 ###\n",
    "#python內建的資料結構(*3)\n",
    "  #list\n",
    "  #tuple(和list很像，暫時儲存值，暫時包在一起的值，不當作資料結構)\n",
    "  #dict(dictionary, 辭典物件)\n",
    "  #set(集合)"
   ]
  }
 ],
 "metadata": {
  "kernelspec": {
   "display_name": "base",
   "language": "python",
   "name": "python3"
  },
  "language_info": {
   "codemirror_mode": {
    "name": "ipython",
    "version": 3
   },
   "file_extension": ".py",
   "mimetype": "text/x-python",
   "name": "python",
   "nbconvert_exporter": "python",
   "pygments_lexer": "ipython3",
   "version": "3.12.3"
  }
 },
 "nbformat": 4,
 "nbformat_minor": 2
}
