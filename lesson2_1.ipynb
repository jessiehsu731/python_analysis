{
 "cells": [
  {
   "cell_type": "code",
   "execution_count": 33,
   "metadata": {},
   "outputs": [
    {
     "name": "stdout",
     "output_type": "stream",
     "text": [
      "10\n",
      "20\n"
     ]
    },
    {
     "data": {
      "text/plain": [
       "20"
      ]
     },
     "execution_count": 33,
     "metadata": {},
     "output_type": "execute_result"
    }
   ],
   "source": [
    "#python內建函式 https://docs.python.org/zh-tw/3/library/functions.html\n",
    "#上課網址\n",
    "print(2*(1 + 2) ** 2 - 2 ** 2 * 2)    #先括號、後次方，再乘除最後加減\n",
    "print((2+3)*4)                        #print是讓內容顯示在底下，但是沒有傳出東西\n",
    "((2+3)*4)                             #can output"
   ]
  },
  {
   "cell_type": "code",
   "execution_count": 34,
   "metadata": {},
   "outputs": [
    {
     "name": "stdout",
     "output_type": "stream",
     "text": [
      "17\n"
     ]
    }
   ],
   "source": [
    "n = 1 + 5            #n is variable，=不會傳出東西\n",
    "n                    #單獨寫變數，就是傳出內容\n",
    "m = n + 5            #save n + 5 to m       \n",
    "\n",
    "print(n + m)         #print just show, not output something"
   ]
  },
  {
   "cell_type": "code",
   "execution_count": null,
   "metadata": {},
   "outputs": [
    {
     "name": "stdout",
     "output_type": "stream",
     "text": [
      "<class 'str'>\n"
     ]
    }
   ],
   "source": [
    "#one ipynb create one 記憶體區塊, can store variables\n",
    "#prompt   參數\n",
    "#input()  is function\n",
    "\n",
    "#input('請輸入X的值:')           #input會傳出東西的，傳出字串str'45'\n",
    "X = input('請輸入X的值:')        #Input 輸出是字串str，無法直接和數字運算\n",
    "#if you don't know they type of variable, use {function type()} to check\n",
    "print(type(X))\n",
    "result = float(X) + 10           #float回傳從數字或字串生成的浮點數，float is a function, so do first.\n",
    "#result此時資料格式是浮點數"
   ]
  },
  {
   "cell_type": "code",
   "execution_count": 12,
   "metadata": {},
   "outputs": [
    {
     "name": "stdout",
     "output_type": "stream",
     "text": [
      "4--7--8.0--hello..\n",
      "4--7--8.0--hello.\n"
     ]
    }
   ],
   "source": [
    "#print(*objects, sep=' ', end='\\n', file=None, flush=False)\n",
    "#總共有5個[參數]\n",
    "#有*號的代表沒有限制數量的[引數值]，沒有輸入也可以，就會只有end換行\n",
    "#後面有等號的就有預設值的參數，這些default可以忽略，就使用原本的default\n",
    "#\\n is 換行符號\n",
    "\n",
    "#c.f.\n",
    "#input() or input(prompt) 沒有引數值或是只有一個引數值\n",
    "\n",
    "radius = float(input('請輸入半徑:'))\n",
    "print(4,7,8.0,'hello', sep='--', end='..\\n')  #end代表最後輸出一個.以及\\n換行\n",
    "\n",
    "#呼叫 前面一定是引數值(4,7,8.0,'hello')，後面一定是引數名稱(有default那些)，引數名稱呼叫可以不依照順序，就是可以end再sep\n",
    "print(4,7,8.0,'hello', end='.\\n', sep='--')"
   ]
  },
  {
   "cell_type": "code",
   "execution_count": 15,
   "metadata": {},
   "outputs": [
    {
     "name": "stdout",
     "output_type": "stream",
     "text": [
      "123\n",
      "\n",
      "11\n",
      "<class 'str'>\n"
     ]
    }
   ],
   "source": [
    "print('123')\n",
    "#有*號的代表沒有限制數量的[引數值]，沒有輸入也可以，就會只有end換行\n",
    "print()\n",
    "print(11)\n",
    "print(type('123'))"
   ]
  }
 ],
 "metadata": {
  "kernelspec": {
   "display_name": "base",
   "language": "python",
   "name": "python3"
  },
  "language_info": {
   "codemirror_mode": {
    "name": "ipython",
    "version": 3
   },
   "file_extension": ".py",
   "mimetype": "text/x-python",
   "name": "python",
   "nbconvert_exporter": "python",
   "pygments_lexer": "ipython3",
   "version": "3.12.3"
  }
 },
 "nbformat": 4,
 "nbformat_minor": 2
}
