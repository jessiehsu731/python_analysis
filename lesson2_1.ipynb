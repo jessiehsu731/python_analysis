{
 "cells": [
  {
   "cell_type": "code",
   "execution_count": 33,
   "metadata": {},
   "outputs": [
    {
     "name": "stdout",
     "output_type": "stream",
     "text": [
      "10\n",
      "20\n"
     ]
    },
    {
     "data": {
      "text/plain": [
       "20"
      ]
     },
     "execution_count": 33,
     "metadata": {},
     "output_type": "execute_result"
    }
   ],
   "source": [
    "print(2*(1 + 2) ** 2 - 2 ** 2 * 2)    #先括號、後次方，再乘除最後加減\n",
    "print((2+3)*4)                        #print是讓內容顯示在底下，但是沒有傳出東西\n",
    "((2+3)*4)                             #can output"
   ]
  },
  {
   "cell_type": "code",
   "execution_count": 34,
   "metadata": {},
   "outputs": [
    {
     "name": "stdout",
     "output_type": "stream",
     "text": [
      "17\n"
     ]
    }
   ],
   "source": [
    "n = 1 + 5            #n is variable，=不會傳出東西\n",
    "n                    #單獨寫變數，就是傳出內容\n",
    "m = n + 5            #save n + 5 to m       \n",
    "\n",
    "print(n + m)         #print just show, not output something"
   ]
  },
  {
   "cell_type": "code",
   "execution_count": 40,
   "metadata": {},
   "outputs": [
    {
     "data": {
      "text/plain": [
       "55.0"
      ]
     },
     "execution_count": 40,
     "metadata": {},
     "output_type": "execute_result"
    }
   ],
   "source": [
    "#one ipynb create one 記憶體區塊, can store variables\n",
    "#prompt   參數\n",
    "#input()  is function\n",
    "\n",
    "input('請輸入X的值:')            #input會傳出東西的，傳出字串'45'\n",
    "X = input('請輸入X的值:')        #Input 輸出是字串，無法直接和數字運算\n",
    "float(X) + 10                   #float回傳從數字或字串生成的浮點數"
   ]
  }
 ],
 "metadata": {
  "kernelspec": {
   "display_name": "base",
   "language": "python",
   "name": "python3"
  },
  "language_info": {
   "codemirror_mode": {
    "name": "ipython",
    "version": 3
   },
   "file_extension": ".py",
   "mimetype": "text/x-python",
   "name": "python",
   "nbconvert_exporter": "python",
   "pygments_lexer": "ipython3",
   "version": "3.12.3"
  }
 },
 "nbformat": 4,
 "nbformat_minor": 2
}
