{
 "cells": [
  {
   "cell_type": "code",
   "execution_count": 3,
   "metadata": {},
   "outputs": [],
   "source": [
    "file = open(file='student.csv',encoding='utf-8')\n",
    "file.close()"
   ]
  },
  {
   "cell_type": "code",
   "execution_count": 4,
   "metadata": {},
   "outputs": [],
   "source": [
    "file = open(file='student.csv',encoding='utf-8')\n",
    "file.close()"
   ]
  },
  {
   "cell_type": "code",
   "execution_count": 5,
   "metadata": {},
   "outputs": [
    {
     "name": "stdout",
     "output_type": "stream",
     "text": [
      "['name,chinese,english,math,history,health\\n', 'student1,73,81,73,91,54\\n', 'student2,89,52,68,75,74\\n', 'student3,60,60,51,60,90\\n', 'student4,55,55,54,84,81\\n', 'student5,76,53,99,66,74\\n', 'student6,58,94,98,58,94\\n', 'student7,79,82,98,88,91\\n', 'student8,77,83,56,52,94\\n', 'student9,91,54,77,76,73\\n', 'student10,99,80,92,81,56\\n', 'student11,72,74,76,95,69\\n', 'student12,97,63,92,67,78\\n', 'student13,86,98,69,93,97\\n', 'student14,52,64,91,88,79\\n', 'student15,72,69,70,84,56\\n', 'student16,62,84,92,50,73\\n', 'student17,89,87,64,79,92\\n', 'student18,91,97,76,87,53\\n', 'student19,68,77,50,100,53\\n', 'student20,91,79,59,89,63\\n', 'student21,56,70,84,88,68\\n', 'student22,73,54,55,73,75\\n', 'student23,84,51,81,52,51\\n', 'student24,83,75,93,64,88\\n', 'student25,83,51,85,68,77\\n', 'student26,67,72,58,58,89\\n', 'student27,82,99,99,73,53\\n', 'student28,73,58,67,74,50\\n', 'student29,77,93,72,72,73\\n', 'student30,58,56,72,100,62\\n', 'student31,51,68,93,95,97\\n', 'student32,77,100,73,56,59\\n', 'student33,70,76,62,87,77\\n', 'student34,81,97,76,100,62\\n', 'student35,86,82,55,84,93\\n', 'student36,50,59,75,53,92\\n', 'student37,83,86,50,54,88\\n', 'student38,51,70,100,66,68\\n', 'student39,98,65,50,94,64\\n', 'student40,55,50,89,78,67\\n', 'student41,68,69,58,53,52\\n', 'student42,74,92,64,68,79\\n', 'student43,50,51,74,50,75\\n', 'student44,86,73,59,57,72\\n', 'student45,54,55,55,92,79\\n', 'student46,73,86,90,69,72\\n', 'student47,64,93,66,68,55\\n', 'student48,99,89,62,51,99\\n', 'student49,69,87,88,80,67\\n', 'student50,87,98,65,91,68\\n']\n"
     ]
    }
   ],
   "source": [
    "with open(file='student.csv',encoding='utf-8') as file:\n",
    "    lines:list[str] = file.readlines()\n",
    "    print(lines)"
   ]
  },
  {
   "cell_type": "code",
   "execution_count": 6,
   "metadata": {},
   "outputs": [
    {
     "name": "stdout",
     "output_type": "stream",
     "text": [
      "['student20', '91', '79', '59', '89', '63']\n"
     ]
    }
   ],
   "source": [
    "import csv\n",
    "with open(file='student.csv',encoding='utf-8') as file:\n",
    "    reader = csv.reader(file)\n",
    "    next(reader)\n",
    "    students:list = list(reader)\n",
    "\n",
    "for student in students:\n",
    "    if student[0] == 'student20':\n",
    "        print(student)\n",
    "    "
   ]
  }
 ],
 "metadata": {
  "kernelspec": {
   "display_name": "base",
   "language": "python",
   "name": "python3"
  },
  "language_info": {
   "codemirror_mode": {
    "name": "ipython",
    "version": 3
   },
   "file_extension": ".py",
   "mimetype": "text/x-python",
   "name": "python",
   "nbconvert_exporter": "python",
   "pygments_lexer": "ipython3",
   "version": "3.12.3"
  }
 },
 "nbformat": 4,
 "nbformat_minor": 2
}
