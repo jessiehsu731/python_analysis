{
 "cells": [
  {
   "cell_type": "code",
   "execution_count": 20,
   "metadata": {},
   "outputs": [],
   "source": [
    "### 資料結構 ###\n",
    "#python內建的資料結構(*3)\n",
    "  #list\n",
    "  #tuple(和list很像，暫時儲存值，暫時包在一起的值，不當作資料結構)\n",
    "  #dict(dictionary, 辭典物件)\n",
    "  #set(集合)"
   ]
  },
  {
   "cell_type": "code",
   "execution_count": 21,
   "metadata": {},
   "outputs": [
    {
     "name": "stdout",
     "output_type": "stream",
     "text": [
      "<class 'list'>\n"
     ]
    },
    {
     "data": {
      "text/plain": [
       "[2, 8, 9]"
      ]
     },
     "execution_count": 21,
     "metadata": {},
     "output_type": "execute_result"
    }
   ],
   "source": [
    "### list ###\n",
    "#How to build up list?\n",
    "#use 符號 build up list []中括號\n",
    "\n",
    "#list使用符號建立 []\n",
    "lucky_number = [2, 8, 9]\n",
    "print(type(lucky_number))\n",
    "lucky_number\n",
    "\n",
    "#list is 串列資料 sequence data."
   ]
  },
  {
   "cell_type": "code",
   "execution_count": 22,
   "metadata": {},
   "outputs": [
    {
     "data": {
      "text/plain": [
       "19"
      ]
     },
     "execution_count": 22,
     "metadata": {},
     "output_type": "execute_result"
    }
   ],
   "source": [
    "#sum(iterable, /, start=0)\n",
    "#sum裡面放的是串列資料 sequence data\n",
    "sum(lucky_number)"
   ]
  },
  {
   "cell_type": "code",
   "execution_count": 23,
   "metadata": {},
   "outputs": [
    {
     "name": "stdout",
     "output_type": "stream",
     "text": [
      "<class 'tuple'>\n"
     ]
    },
    {
     "data": {
      "text/plain": [
       "(2, 8, 9)"
      ]
     },
     "execution_count": 23,
     "metadata": {},
     "output_type": "execute_result"
    }
   ],
   "source": [
    "### tuple ###\n",
    "#tuple的符號建立 ()\n",
    "luckey_number1 = (2, 8, 9)     \n",
    "print(type(luckey_number1))\n",
    "luckey_number1\n",
    "\n",
    "#tuple的內容不能改(和list的差異)\n",
    "#tuple is also a sequence data.\n",
    "#list可以改變裡面的內容值，可以新增減少"
   ]
  },
  {
   "cell_type": "code",
   "execution_count": 24,
   "metadata": {},
   "outputs": [
    {
     "name": "stdout",
     "output_type": "stream",
     "text": [
      "8\n"
     ]
    },
    {
     "data": {
      "text/plain": [
       "[10, 20, 30]"
      ]
     },
     "execution_count": 24,
     "metadata": {},
     "output_type": "execute_result"
    }
   ],
   "source": [
    "#list中會index各個位置的值，第一個index為0，第二個index為1，以此類推\n",
    "#[] is subscript，內部放的數字，代表是第幾個值\n",
    "print(lucky_number[1])\n",
    "\n",
    "#修改替換值\n",
    "lucky_number[0] = 10\n",
    "lucky_number[1] = 20\n",
    "lucky_number[2] = 30\n",
    "lucky_number"
   ]
  },
  {
   "cell_type": "code",
   "execution_count": 33,
   "metadata": {},
   "outputs": [
    {
     "name": "stdout",
     "output_type": "stream",
     "text": [
      "[67, 87, 92, 69, 92]\n",
      "[89, 76, 92, 76, 89]\n"
     ]
    }
   ],
   "source": [
    "#list中又有list-->二維的資料結構，也可以有三維的...\n",
    "students = [\n",
    "    [67,87,92,69,92],\n",
    "    [89,76,92,76,89]\n",
    "]\n",
    "students\n",
    "print(students[0])\n",
    "print(students[1])"
   ]
  }
 ],
 "metadata": {
  "kernelspec": {
   "display_name": "base",
   "language": "python",
   "name": "python3"
  },
  "language_info": {
   "codemirror_mode": {
    "name": "ipython",
    "version": 3
   },
   "file_extension": ".py",
   "mimetype": "text/x-python",
   "name": "python",
   "nbconvert_exporter": "python",
   "pygments_lexer": "ipython3",
   "version": "3.12.3"
  }
 },
 "nbformat": 4,
 "nbformat_minor": 2
}
