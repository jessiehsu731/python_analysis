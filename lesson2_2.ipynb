{
 "cells": [
  {
   "cell_type": "code",
   "execution_count": 1,
   "metadata": {},
   "outputs": [
    {
     "data": {
      "text/plain": [
       "[2, 4, 6]"
      ]
     },
     "execution_count": 1,
     "metadata": {},
     "output_type": "execute_result"
    }
   ],
   "source": [
    "### 資料結構 ###\n",
    "#python內建的資料結構(*3)\n",
    "  #list\n",
    "  #tuple(和list很像，暫時儲存值，暫時包在一起的值，不當作資料結構)\n",
    "  #dict(dictionary, 辭典物件)\n",
    "  #set(集合)\n",
    "\n",
    "#How to build up list?\n",
    "#use 符號 build up list []中括號\n",
    "lucky_number = [2,4,6]\n",
    "type(lucky_number)\n",
    "lucky_number"
   ]
  }
 ],
 "metadata": {
  "kernelspec": {
   "display_name": "base",
   "language": "python",
   "name": "python3"
  },
  "language_info": {
   "codemirror_mode": {
    "name": "ipython",
    "version": 3
   },
   "file_extension": ".py",
   "mimetype": "text/x-python",
   "name": "python",
   "nbconvert_exporter": "python",
   "pygments_lexer": "ipython3",
   "version": "3.12.3"
  }
 },
 "nbformat": 4,
 "nbformat_minor": 2
}
