{
 "cells": [
  {
   "cell_type": "code",
   "execution_count": null,
   "metadata": {},
   "outputs": [],
   "source": [
    "### 資料結構 ###\n",
    "#python內建的資料結構(*3)\n",
    "  #list\n",
    "  #tuple(和list很像，暫時儲存值，暫時包在一起的值，不當作資料結構)\n",
    "  #dict(dictionary, 辭典物件)\n",
    "  #set(集合)"
   ]
  },
  {
   "cell_type": "code",
   "execution_count": 7,
   "metadata": {},
   "outputs": [
    {
     "name": "stdout",
     "output_type": "stream",
     "text": [
      "<class 'list'>\n"
     ]
    },
    {
     "data": {
      "text/plain": [
       "[2, 4, 6]"
      ]
     },
     "execution_count": 7,
     "metadata": {},
     "output_type": "execute_result"
    }
   ],
   "source": [
    "### list ###\n",
    "#How to build up list?\n",
    "#use 符號 build up list []中括號\n",
    "\n",
    "#list使用符號建立 []\n",
    "lucky_number = [2, 4, 6]\n",
    "print(type(lucky_number))\n",
    "lucky_number\n",
    "\n",
    "#list is 串列資料 sequence data."
   ]
  },
  {
   "cell_type": "code",
   "execution_count": 4,
   "metadata": {},
   "outputs": [
    {
     "data": {
      "text/plain": [
       "12"
      ]
     },
     "execution_count": 4,
     "metadata": {},
     "output_type": "execute_result"
    }
   ],
   "source": [
    "#sum(iterable, /, start=0)\n",
    "#sum裡面放的是串列資料 sequence data\n",
    "sum(lucky_number)"
   ]
  },
  {
   "cell_type": "code",
   "execution_count": 5,
   "metadata": {},
   "outputs": [
    {
     "name": "stdout",
     "output_type": "stream",
     "text": [
      "<class 'tuple'>\n"
     ]
    },
    {
     "data": {
      "text/plain": [
       "(2, 4, 6)"
      ]
     },
     "execution_count": 5,
     "metadata": {},
     "output_type": "execute_result"
    }
   ],
   "source": [
    "### tuple ###\n",
    "#tuple的符號建立 ()\n",
    "luckey_number1 = (2, 4, 6)     \n",
    "print(type(luckey_number1))\n",
    "luckey_number1\n",
    "\n",
    "#tuple的內容不能改(和list的差異)\n",
    "#tuple is also a sequence data.\n",
    "#list可以改變裡面的內容值，可以新增減少variable"
   ]
  }
 ],
 "metadata": {
  "kernelspec": {
   "display_name": "base",
   "language": "python",
   "name": "python3"
  },
  "language_info": {
   "codemirror_mode": {
    "name": "ipython",
    "version": 3
   },
   "file_extension": ".py",
   "mimetype": "text/x-python",
   "name": "python",
   "nbconvert_exporter": "python",
   "pygments_lexer": "ipython3",
   "version": "3.12.3"
  }
 },
 "nbformat": 4,
 "nbformat_minor": 2
}
