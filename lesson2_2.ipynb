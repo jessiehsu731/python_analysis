{
 "cells": [
  {
   "cell_type": "code",
   "execution_count": null,
   "metadata": {
    "vscode": {
     "languageId": "plaintext"
    }
   },
   "outputs": [],
   "source": [
    "### 資料結構 ###\n",
    "#python內建的資料結構(*3)\n",
    "  #list\n",
    "  #tuple(和list很像，暫時儲存值，暫時包在一起的值，不當作資料結構)\n",
    "  #dict(dictionary, 辭典物件)\n",
    "  #set(集合)\n",
    "\n",
    "#How to build up list?\n",
    "#use 符號 build up list []中括號\n",
    "[2,4,6,8,]\n"
   ]
  }
 ],
 "metadata": {
  "language_info": {
   "name": "python"
  }
 },
 "nbformat": 4,
 "nbformat_minor": 2
}
