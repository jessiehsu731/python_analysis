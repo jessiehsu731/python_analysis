{
 "cells": [
  {
   "cell_type": "code",
   "execution_count": 10,
   "metadata": {},
   "outputs": [
    {
     "name": "stdout",
     "output_type": "stream",
     "text": [
      "<class 'pandas.core.frame.DataFrame'>\n",
      "RangeIndex: 4 entries, 0 to 3\n",
      "Data columns (total 3 columns):\n",
      " #   Column  Non-Null Count  Dtype  \n",
      "---  ------  --------------  -----  \n",
      " 0   col1    3 non-null      float64\n",
      " 1   col2    4 non-null      object \n",
      " 2   col3    4 non-null      float64\n",
      "dtypes: float64(2), object(1)\n",
      "memory usage: 228.0+ bytes\n",
      "   col1 col2  col3\n",
      "0   1.0    a   1.1\n",
      "1   2.0    b   2.2\n",
      "2   NaN    c   3.3\n",
      "3   4.0    d   4.4\n"
     ]
    }
   ],
   "source": [
    "import pandas as pd\n",
    "\n",
    "data = {'col1': [1, 2, None, 4], 'col2': ['a', 'b', 'c', 'd'], 'col3': [1.1, 2.2, 3.3, 4.4]}\n",
    "df = pd.DataFrame(data)\n",
    "df.info()\n",
    "print(df)"
   ]
  },
  {
   "cell_type": "code",
   "execution_count": 11,
   "metadata": {},
   "outputs": [
    {
     "data": {
      "text/html": [
       "<div>\n",
       "<style scoped>\n",
       "    .dataframe tbody tr th:only-of-type {\n",
       "        vertical-align: middle;\n",
       "    }\n",
       "\n",
       "    .dataframe tbody tr th {\n",
       "        vertical-align: top;\n",
       "    }\n",
       "\n",
       "    .dataframe thead th {\n",
       "        text-align: right;\n",
       "    }\n",
       "</style>\n",
       "<table border=\"1\" class=\"dataframe\">\n",
       "  <thead>\n",
       "    <tr style=\"text-align: right;\">\n",
       "      <th></th>\n",
       "      <th>0</th>\n",
       "      <th>1</th>\n",
       "      <th>2</th>\n",
       "      <th>3</th>\n",
       "    </tr>\n",
       "  </thead>\n",
       "  <tbody>\n",
       "    <tr>\n",
       "      <th>col1</th>\n",
       "      <td>1.0</td>\n",
       "      <td>2.0</td>\n",
       "      <td>NaN</td>\n",
       "      <td>4.0</td>\n",
       "    </tr>\n",
       "    <tr>\n",
       "      <th>col2</th>\n",
       "      <td>a</td>\n",
       "      <td>b</td>\n",
       "      <td>c</td>\n",
       "      <td>d</td>\n",
       "    </tr>\n",
       "    <tr>\n",
       "      <th>col3</th>\n",
       "      <td>1.1</td>\n",
       "      <td>2.2</td>\n",
       "      <td>3.3</td>\n",
       "      <td>4.4</td>\n",
       "    </tr>\n",
       "  </tbody>\n",
       "</table>\n",
       "</div>"
      ],
      "text/plain": [
       "        0    1    2    3\n",
       "col1  1.0  2.0  NaN  4.0\n",
       "col2    a    b    c    d\n",
       "col3  1.1  2.2  3.3  4.4"
      ]
     },
     "execution_count": 11,
     "metadata": {},
     "output_type": "execute_result"
    }
   ],
   "source": [
    "df.T"
   ]
  },
  {
   "cell_type": "code",
   "execution_count": 17,
   "metadata": {},
   "outputs": [
    {
     "name": "stdout",
     "output_type": "stream",
     "text": [
      "原始 DataFrame：\n",
      "   col1 col2  col3\n",
      "0   1.0    a   1.1\n",
      "1   2.0  NaN   2.2\n",
      "2   NaN    c   3.3\n",
      "3   4.0    d   NaN\n"
     ]
    }
   ],
   "source": [
    "import pandas as pd\n",
    "import numpy as np\n",
    "\n",
    "# 建立一個包含 NaN 的 DataFrame\n",
    "data = {'col1': [1, 2, np.nan, 4], \n",
    "        'col2': ['a', np.nan, 'c', 'd'], \n",
    "        'col3': [1.1, 2.2, 3.3, np.nan]}\n",
    "df = pd.DataFrame(data)\n",
    "\n",
    "print(\"原始 DataFrame：\")\n",
    "print(df)\n"
   ]
  },
  {
   "cell_type": "code",
   "execution_count": null,
   "metadata": {},
   "outputs": [
    {
     "name": "stdout",
     "output_type": "stream",
     "text": [
      "\n",
      "刪除 NaN 列後的 DataFrame：\n",
      "   col1 col2  col3\n",
      "0   1.0    a   1.1\n"
     ]
    }
   ],
   "source": [
    "# 刪除包含 NaN 的列\n",
    "df_cleaned = df.dropna()\n",
    "\n",
    "print(\"\\n刪除包含 NaN 的列後的 DataFrame：\")\n",
    "print(df_cleaned)"
   ]
  },
  {
   "cell_type": "markdown",
   "metadata": {},
   "source": [
    "df.dropna() 預設會回傳一個新的 DataFrame，而不會修改原始的 DataFrame。\n",
    "如果你想直接修改原始的 DataFrame，可以使用 inplace=True 參數："
   ]
  },
  {
   "cell_type": "code",
   "execution_count": 19,
   "metadata": {},
   "outputs": [
    {
     "name": "stdout",
     "output_type": "stream",
     "text": [
      "\n",
      "在原 DataFrame 上刪除包含 NaN 的列後的 DataFrame：\n",
      "   col1 col2  col3\n",
      "0   1.0    a   1.1\n"
     ]
    }
   ],
   "source": [
    "# 直接在原 DataFrame 上刪除包含 NaN 的列\n",
    "df.dropna(inplace=True)\n",
    "print(\"\\n在原 DataFrame 上刪除包含 NaN 的列後的 DataFrame：\")\n",
    "print(df)"
   ]
  },
  {
   "cell_type": "code",
   "execution_count": 21,
   "metadata": {},
   "outputs": [
    {
     "name": "stdout",
     "output_type": "stream",
     "text": [
      "\n",
      "原始 DataFrame2：\n",
      "   col1 col2  col3\n",
      "0   1.0    a   1.1\n",
      "1   2.0  NaN   2.2\n",
      "2   NaN  NaN   NaN\n",
      "3   4.0    d   NaN\n"
     ]
    }
   ],
   "source": [
    "# 只有當該列的所有值都是 NaN 時，才刪除該列\n",
    "data2 = {'col1': [1, 2, np.nan, 4], \n",
    "        'col2': ['a', np.nan, np.nan, 'd'], \n",
    "        'col3': [1.1, 2.2, np.nan, np.nan]}\n",
    "df2 = pd.DataFrame(data2)\n",
    "print(\"\\n原始 DataFrame2：\")\n",
    "print(df2)"
   ]
  },
  {
   "cell_type": "code",
   "execution_count": 22,
   "metadata": {},
   "outputs": [
    {
     "name": "stdout",
     "output_type": "stream",
     "text": [
      "\n",
      "刪除所有值都是 NaN 的列後的 DataFrame2：\n",
      "   col1 col2  col3\n",
      "0   1.0    a   1.1\n",
      "1   2.0  NaN   2.2\n",
      "3   4.0    d   NaN\n"
     ]
    }
   ],
   "source": [
    "df2_cleaned = df2.dropna(how='all')\n",
    "print(\"\\n刪除所有值都是 NaN 的列後的 DataFrame2：\")\n",
    "print(df2_cleaned)"
   ]
  },
  {
   "cell_type": "code",
   "execution_count": 23,
   "metadata": {},
   "outputs": [
    {
     "name": "stdout",
     "output_type": "stream",
     "text": [
      "原始 DataFrame：\n",
      "   col1 col2  col3\n",
      "0   1.0    a   1.1\n",
      "1   2.0  NaN   2.2\n",
      "2   NaN    c   3.3\n",
      "3   4.0    d   NaN\n"
     ]
    }
   ],
   "source": [
    "# 建立一個包含 NaN 的 DataFrame\n",
    "data = {'col1': [1, 2, np.nan, 4], \n",
    "        'col2': ['a', np.nan, 'c', 'd'], \n",
    "        'col3': [1.1, 2.2, 3.3, np.nan]}\n",
    "df = pd.DataFrame(data)\n",
    "\n",
    "print(\"原始 DataFrame：\")\n",
    "print(df)\n"
   ]
  },
  {
   "cell_type": "code",
   "execution_count": 25,
   "metadata": {},
   "outputs": [
    {
     "name": "stdout",
     "output_type": "stream",
     "text": [
      "\n",
      "刪除col1或col3包含NaN的列後的 DataFrame3：\n",
      "   col1 col2  col3\n",
      "0   1.0    a   1.1\n",
      "1   2.0  NaN   2.2\n"
     ]
    }
   ],
   "source": [
    "df3_cleaned = df3.dropna(subset=['col1','col3'])\n",
    "print(\"\\n刪除col1或col3包含NaN的列後的 DataFrame3：\")\n",
    "print(df3_cleaned)"
   ]
  },
  {
   "cell_type": "code",
   "execution_count": 26,
   "metadata": {},
   "outputs": [
    {
     "name": "stdout",
     "output_type": "stream",
     "text": [
      "原始 DataFrame：\n",
      "   col1 col2  col3\n",
      "0   1.0    a   NaN\n",
      "1   2.0  NaN   NaN\n",
      "2   NaN    c   NaN\n",
      "3   4.0    d   NaN\n"
     ]
    }
   ],
   "source": [
    "# 建立一個包含 NaN 的 DataFrame\n",
    "data = {'col1': [1, 2, np.nan, 4], \n",
    "        'col2': ['a', np.nan, 'c', 'd'], \n",
    "        'col3': [np.nan, np.nan, np.nan, np.nan]}\n",
    "df = pd.DataFrame(data)\n",
    "\n",
    "print(\"原始 DataFrame：\")\n",
    "print(df)"
   ]
  },
  {
   "cell_type": "code",
   "execution_count": 27,
   "metadata": {},
   "outputs": [
    {
     "name": "stdout",
     "output_type": "stream",
     "text": [
      "\n",
      "刪除包含 NaN 的欄後的 DataFrame：\n",
      "Empty DataFrame\n",
      "Columns: []\n",
      "Index: [0, 1, 2, 3]\n"
     ]
    }
   ],
   "source": [
    "# 刪除任何包含 NaN 的欄\n",
    "df_cleaned = df.dropna(axis='columns')  # 或 axis='columns'\n",
    "print(\"\\n刪除包含 NaN 的欄後的 DataFrame：\")\n",
    "print(df_cleaned)"
   ]
  },
  {
   "cell_type": "markdown",
   "metadata": {},
   "source": [
    "請給我dataframe of pandas 的reindex()和drop()的範例，請以繁體中文顯示"
   ]
  },
  {
   "cell_type": "code",
   "execution_count": 39,
   "metadata": {},
   "outputs": [
    {
     "name": "stdout",
     "output_type": "stream",
     "text": [
      "原始 DataFrame：\n",
      "   col1  col2\n",
      "A    10    40\n",
      "B    20    50\n",
      "C    30    60\n",
      "\n",
      "重新排列索引後的 DataFrame：\n",
      "   col1  col2\n",
      "C    30    60\n",
      "A    10    40\n",
      "B    20    50\n"
     ]
    },
    {
     "data": {
      "text/html": [
       "<div>\n",
       "<style scoped>\n",
       "    .dataframe tbody tr th:only-of-type {\n",
       "        vertical-align: middle;\n",
       "    }\n",
       "\n",
       "    .dataframe tbody tr th {\n",
       "        vertical-align: top;\n",
       "    }\n",
       "\n",
       "    .dataframe thead th {\n",
       "        text-align: right;\n",
       "    }\n",
       "</style>\n",
       "<table border=\"1\" class=\"dataframe\">\n",
       "  <thead>\n",
       "    <tr style=\"text-align: right;\">\n",
       "      <th></th>\n",
       "      <th>col2</th>\n",
       "      <th>col1</th>\n",
       "    </tr>\n",
       "  </thead>\n",
       "  <tbody>\n",
       "    <tr>\n",
       "      <th>A</th>\n",
       "      <td>40</td>\n",
       "      <td>10</td>\n",
       "    </tr>\n",
       "    <tr>\n",
       "      <th>B</th>\n",
       "      <td>50</td>\n",
       "      <td>20</td>\n",
       "    </tr>\n",
       "    <tr>\n",
       "      <th>C</th>\n",
       "      <td>60</td>\n",
       "      <td>30</td>\n",
       "    </tr>\n",
       "  </tbody>\n",
       "</table>\n",
       "</div>"
      ],
      "text/plain": [
       "   col2  col1\n",
       "A    40    10\n",
       "B    50    20\n",
       "C    60    30"
      ]
     },
     "execution_count": 39,
     "metadata": {},
     "output_type": "execute_result"
    }
   ],
   "source": [
    "import pandas as pd\n",
    "\n",
    "# 建立一個 DataFrame\n",
    "data = {'col1': [10, 20, 30], 'col2': [40, 50, 60]}\n",
    "df = pd.DataFrame(data, index=['A', 'B', 'C'])\n",
    "\n",
    "print(\"原始 DataFrame：\")\n",
    "print(df)\n",
    "\n",
    "# 重新排列索引順序\n",
    "new_index = ['C', 'A', 'B']\n",
    "df_reindexed = df.reindex(new_index)\n",
    "df_AA = df.reindex(columns=['col2', 'col1'])\n",
    "\n",
    "print(\"\\n重新排列索引後的 DataFrame：\")\n",
    "print(df_reindexed)\n",
    "df_AA\n"
   ]
  },
  {
   "cell_type": "code",
   "execution_count": 36,
   "metadata": {},
   "outputs": [
    {
     "name": "stdout",
     "output_type": "stream",
     "text": [
      "\n",
      "刪除索引標籤後的 DataFrame：\n",
      "   col1  col2\n",
      "A    10    40\n",
      "C    30    60\n"
     ]
    }
   ],
   "source": [
    "# 刪除索引標籤 'B'\n",
    "new_index = ['A', 'C']\n",
    "df_reindexed = df.reindex(new_index)\n",
    "\n",
    "print(\"\\n刪除索引標籤後的 DataFrame：\")\n",
    "print(df_reindexed)"
   ]
  },
  {
   "cell_type": "code",
   "execution_count": 37,
   "metadata": {},
   "outputs": [
    {
     "name": "stdout",
     "output_type": "stream",
     "text": [
      "\n",
      "刪除列後的 DataFrame：\n",
      "   col1  col2\n",
      "A    10    40\n",
      "C    30    60\n"
     ]
    }
   ],
   "source": [
    "# 刪除索引標籤為 'B' 的列\n",
    "df_dropped = df.drop('B')\n",
    "\n",
    "print(\"\\n刪除列後的 DataFrame：\")\n",
    "print(df_dropped)"
   ]
  }
 ],
 "metadata": {
  "kernelspec": {
   "display_name": "base",
   "language": "python",
   "name": "python3"
  },
  "language_info": {
   "codemirror_mode": {
    "name": "ipython",
    "version": 3
   },
   "file_extension": ".py",
   "mimetype": "text/x-python",
   "name": "python",
   "nbconvert_exporter": "python",
   "pygments_lexer": "ipython3",
   "version": "3.12.3"
  }
 },
 "nbformat": 4,
 "nbformat_minor": 2
}
