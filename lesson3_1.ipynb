{
 "cells": [
  {
   "cell_type": "code",
   "execution_count": null,
   "metadata": {},
   "outputs": [],
   "source": [
    "#儲存資料儲存在應用程式的記憶體\n",
    "#變數要儲存起來\n",
    "#資料結構也是除儲存在記憶體裡面\n",
    "\n",
    "### 資料結構 ###\n",
    "#python內建的資料結構(*3) python資料結構有三\n",
    "  #list--依順序建立資料\n",
    "     #tuple(和list很像，暫時儲存值，暫時包在一起的值，不當作資料結構)\n",
    "  #dict(dictionary, 辭典物件)--有名稱的Key\n",
    "  #set(集合)--做交集聯集等集合應用，SET中的元素不可以重複"
   ]
  },
  {
   "cell_type": "code",
   "execution_count": 43,
   "metadata": {},
   "outputs": [
    {
     "name": "stdout",
     "output_type": "stream",
     "text": [
      "AA [1, 2, 3, 4]\n",
      "BB [1, 2, 3, 4, 5, 6, 7, 8, 9]\n"
     ]
    }
   ],
   "source": [
    "#Copilot--python的list如何建立和常用的操作法??\n",
    "#search \"python內建function\"\n",
    "\n",
    "numbers = [1, 2, 3, 4, 5]   #使用符號建立\n",
    "#mixed_list = [1, \"Hello\", 3.14. True]  #元素值可以是不同的資料型態\n",
    "\n",
    "#range寫法\n",
    "##range(stop)\n",
    "##range(start, stop, step=1)   #step是引數名稱呼叫(引數值呼叫)    range(2,30,6)-->輸出會是從2開始，每加6，直到30\n",
    "range(5)  #從0開始數5個數字，沒有5\n",
    "\n",
    "list_from_A = list(range(1,5))\n",
    "list_from_A\n",
    "\n",
    "list_from_range = list(range(1, 10, 1))    #不包含5      只有這行不會傳出東西，所以需要下一行\n",
    "list_from_range\n",
    "\n",
    "print(\"AA\",list_from_A)\n",
    "print(\"BB\",list_from_range)"
   ]
  },
  {
   "cell_type": "code",
   "execution_count": 44,
   "metadata": {},
   "outputs": [
    {
     "data": {
      "text/plain": [
       "9"
      ]
     },
     "execution_count": 44,
     "metadata": {},
     "output_type": "execute_result"
    }
   ],
   "source": [
    "my_list = range(1,10,2)\n",
    "\n",
    "#list的操作\n",
    "my_list[4]  #subscript"
   ]
  },
  {
   "cell_type": "code",
   "execution_count": 50,
   "metadata": {},
   "outputs": [
    {
     "data": {
      "text/plain": [
       "2"
      ]
     },
     "execution_count": 50,
     "metadata": {},
     "output_type": "execute_result"
    }
   ],
   "source": [
    "#Copilot--python list實體常用的實體方法有哪些??\n",
    "empty_list = []\n",
    "empty_list.append(33)    #實體名稱empty_list執行實體方法append\n",
    "empty_list.append(11)\n",
    "empty_list\n",
    "len(empty_list)"
   ]
  }
 ],
 "metadata": {
  "kernelspec": {
   "display_name": "base",
   "language": "python",
   "name": "python3"
  },
  "language_info": {
   "codemirror_mode": {
    "name": "ipython",
    "version": 3
   },
   "file_extension": ".py",
   "mimetype": "text/x-python",
   "name": "python",
   "nbconvert_exporter": "python",
   "pygments_lexer": "ipython3",
   "version": "3.12.3"
  }
 },
 "nbformat": 4,
 "nbformat_minor": 2
}
