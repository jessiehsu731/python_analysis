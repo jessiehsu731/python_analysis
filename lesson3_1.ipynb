{
 "cells": [
  {
   "cell_type": "code",
   "execution_count": null,
   "metadata": {},
   "outputs": [],
   "source": [
    "#儲存資料儲存在應用程式的記憶體\n",
    "#變數要儲存起來\n",
    "#資料結構也是除儲存在記憶體裡面\n",
    "\n",
    "### 資料結構 ###\n",
    "#python內建的資料結構(*3) python資料結構有三\n",
    "  #list--依順序建立資料\n",
    "     #tuple(和list很像，暫時儲存值，暫時包在一起的值，不當作資料結構)\n",
    "  #dict(dictionary, 辭典物件)--有名稱的Key\n",
    "  #set(集合)--做交集聯集等集合應用，SET中的元素不可以重複"
   ]
  },
  {
   "cell_type": "code",
   "execution_count": 36,
   "metadata": {},
   "outputs": [
    {
     "ename": "NameError",
     "evalue": "name 'Print' is not defined",
     "output_type": "error",
     "traceback": [
      "\u001b[1;31m---------------------------------------------------------------------------\u001b[0m",
      "\u001b[1;31mNameError\u001b[0m                                 Traceback (most recent call last)",
      "Cell \u001b[1;32mIn[36], line 17\u001b[0m\n\u001b[0;32m     15\u001b[0m list_from_range \u001b[38;5;241m=\u001b[39m \u001b[38;5;28mlist\u001b[39m(\u001b[38;5;28mrange\u001b[39m(\u001b[38;5;241m1\u001b[39m, \u001b[38;5;241m10\u001b[39m, \u001b[38;5;241m1\u001b[39m))    \u001b[38;5;66;03m#不包含5      只有這行不會傳出東西，所以需要下一行\u001b[39;00m\n\u001b[0;32m     16\u001b[0m list_from_range\n\u001b[1;32m---> 17\u001b[0m \u001b[43mPrint\u001b[49m(list_from_range)\n\u001b[0;32m     18\u001b[0m Print(list_from_A)\n",
      "\u001b[1;31mNameError\u001b[0m: name 'Print' is not defined"
     ]
    }
   ],
   "source": [
    "#Copilot--python的list如何建立和常用的操作法\n",
    "#search \"python內建function\"\n",
    "\n",
    "numbers = [1, 2, 3, 4, 5]   #使用符號建立\n",
    "#mixed_list = [1, \"Hello\", 3.14. True]  #元素值可以是不同的資料型態\n",
    "\n",
    "#range寫法\n",
    "##range(stop)\n",
    "##range(start, stop, step=1)   #step是引數名稱呼叫(引數值呼叫)\n",
    "range(5)  #從0開始數5個數字，沒有5\n",
    "\n",
    "list_from_A = list(range(1,5))\n",
    "list_from_A\n",
    "\n",
    "list_from_range = list(range(1, 10, 1))    #不包含5      只有這行不會傳出東西，所以需要下一行\n",
    "list_from_range\n",
    "Print(list_from_range)\n",
    "Print(list_from_A)"
   ]
  }
 ],
 "metadata": {
  "kernelspec": {
   "display_name": "base",
   "language": "python",
   "name": "python3"
  },
  "language_info": {
   "codemirror_mode": {
    "name": "ipython",
    "version": 3
   },
   "file_extension": ".py",
   "mimetype": "text/x-python",
   "name": "python",
   "nbconvert_exporter": "python",
   "pygments_lexer": "ipython3",
   "version": "3.12.3"
  }
 },
 "nbformat": 4,
 "nbformat_minor": 2
}
