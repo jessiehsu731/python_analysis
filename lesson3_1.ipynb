{
 "cells": [
  {
   "cell_type": "code",
   "execution_count": null,
   "metadata": {
    "vscode": {
     "languageId": "plaintext"
    }
   },
   "outputs": [],
   "source": [
    "#儲存資料儲存在應用程式的記憶體\n",
    "#變數要儲存起來\n",
    "#資料結構也是除儲存在記憶體裡面\n"
   ]
  }
 ],
 "metadata": {
  "language_info": {
   "name": "python"
  }
 },
 "nbformat": 4,
 "nbformat_minor": 2
}
