{
 "cells": [
  {
   "cell_type": "code",
   "execution_count": 21,
   "metadata": {},
   "outputs": [
    {
     "data": {
      "text/plain": [
       "{'name': 'Jessie', 'age': 25, 'city': 'Taipei'}"
      ]
     },
     "execution_count": 21,
     "metadata": {},
     "output_type": "execute_result"
    }
   ],
   "source": [
    "#Copilot-python dictionary常用的操作方法?\n",
    "p1 = {'name':'Jessie', \n",
    "      'age':25,\n",
    "      'city':'Taipei'}\n",
    "p1"
   ]
  },
  {
   "cell_type": "code",
   "execution_count": 22,
   "metadata": {},
   "outputs": [
    {
     "name": "stdout",
     "output_type": "stream",
     "text": [
      "Jessie\n",
      "{'name': 'Jessie'}\n"
     ]
    }
   ],
   "source": [
    "print(p1['name'])\n",
    "del p1['city']   #del刪除\n",
    "p1.pop('age')    #pop是實體方法，移除元素\n",
    "print(p1)\n",
    "#del p1  ##整個p1實體刪除\n"
   ]
  },
  {
   "cell_type": "markdown",
   "metadata": {},
   "source": [
    "- 如何依順序取出串列資料和映射資料的元素值\n",
    "- for_in迴圈\n",
    "\n",
    "Copilot--如何使用for in 迴圈取出串列資料的內容?"
   ]
  },
  {
   "cell_type": "code",
   "execution_count": 29,
   "metadata": {},
   "outputs": [
    {
     "name": "stdout",
     "output_type": "stream",
     "text": [
      "蘋果\n",
      "香蕉\n",
      "橘子\n"
     ]
    }
   ],
   "source": [
    "fruits = ['蘋果','香蕉','橘子']\n",
    "for fruit in fruits:\n",
    "    print(fruit)"
   ]
  },
  {
   "cell_type": "code",
   "execution_count": 35,
   "metadata": {},
   "outputs": [
    {
     "name": "stdout",
     "output_type": "stream",
     "text": [
      "(0, '蘋果')\n",
      "(1, '香蕉')\n",
      "(2, '橘子')\n",
      "0-->蘋果\n",
      "XXXXXXXX\n",
      "1-->香蕉\n",
      "XXXXXXXX\n",
      "2-->橘子\n",
      "XXXXXXXX\n"
     ]
    }
   ],
   "source": [
    "for fruit in enumerate(fruits):    #enumerate同時取得索引和值\n",
    "    print(fruit)\n",
    "\n",
    "for index,fruit in enumerate(fruits):\n",
    "    print(index, fruit, sep='-->')\n",
    "    print(\"XXXXXXXX\")"
   ]
  },
  {
   "cell_type": "code",
   "execution_count": 38,
   "metadata": {},
   "outputs": [
    {
     "name": "stdout",
     "output_type": "stream",
     "text": [
      "Taipei: 台北\n",
      "New Taipei: 新北市\n",
      "Taoyuan: 桃園\n",
      "Taichung: 台中\n",
      "Tainan: 台南\n",
      "Kaohsiung: 高雄\n",
      "Keelung: 基隆\n",
      "Hsinchu: 新竹\n",
      "Chiayi: 嘉義\n",
      "Hualien: 花蓮\n"
     ]
    }
   ],
   "source": [
    "cities = {\n",
    "    'Taipei': '台北',\n",
    "    'New Taipei': '新北市',\n",
    "    'Taoyuan': '桃園',\n",
    "    'Taichung': '台中',\n",
    "    'Tainan': '台南',\n",
    "    'Kaohsiung': '高雄',\n",
    "    'Keelung': '基隆',\n",
    "    'Hsinchu': '新竹',\n",
    "    'Chiayi': '嘉義',\n",
    "    'Hualien': '花蓮'\n",
    "}\n",
    "#print(cities)\n",
    "\n",
    "for key, value in cities.items():\n",
    "    print(f\"{key}: {value}\")"
   ]
  }
 ],
 "metadata": {
  "kernelspec": {
   "display_name": "base",
   "language": "python",
   "name": "python3"
  },
  "language_info": {
   "codemirror_mode": {
    "name": "ipython",
    "version": 3
   },
   "file_extension": ".py",
   "mimetype": "text/x-python",
   "name": "python",
   "nbconvert_exporter": "python",
   "pygments_lexer": "ipython3",
   "version": "3.12.3"
  }
 },
 "nbformat": 4,
 "nbformat_minor": 2
}
