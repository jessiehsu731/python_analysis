{
 "cells": [
  {
   "cell_type": "code",
   "execution_count": 21,
   "metadata": {},
   "outputs": [
    {
     "data": {
      "text/plain": [
       "{'name': 'Jessie', 'age': 25, 'city': 'Taipei'}"
      ]
     },
     "execution_count": 21,
     "metadata": {},
     "output_type": "execute_result"
    }
   ],
   "source": [
    "#Copilot-python dictionary常用的操作方法?\n",
    "p1 = {'name':'Jessie', \n",
    "      'age':25,\n",
    "      'city':'Taipei'}\n",
    "p1"
   ]
  },
  {
   "cell_type": "code",
   "execution_count": 22,
   "metadata": {},
   "outputs": [
    {
     "name": "stdout",
     "output_type": "stream",
     "text": [
      "Jessie\n",
      "{'name': 'Jessie'}\n"
     ]
    }
   ],
   "source": [
    "print(p1['name'])\n",
    "del p1['city']   #del刪除\n",
    "p1.pop('age')    #pop是實體方法，移除元素\n",
    "print(p1)\n",
    "#del p1  ##整個p1實體刪除\n"
   ]
  },
  {
   "cell_type": "markdown",
   "metadata": {},
   "source": [
    "- 如何依順序取出串列資料和映射資料的元素值\n",
    "- for in"
   ]
  }
 ],
 "metadata": {
  "kernelspec": {
   "display_name": "base",
   "language": "python",
   "name": "python3"
  },
  "language_info": {
   "codemirror_mode": {
    "name": "ipython",
    "version": 3
   },
   "file_extension": ".py",
   "mimetype": "text/x-python",
   "name": "python",
   "nbconvert_exporter": "python",
   "pygments_lexer": "ipython3",
   "version": "3.12.3"
  }
 },
 "nbformat": 4,
 "nbformat_minor": 2
}
