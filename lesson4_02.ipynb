{
 "cells": [
  {
   "cell_type": "code",
   "execution_count": null,
   "metadata": {},
   "outputs": [],
   "source": [
    "###讀取csv-1###\n",
    "file = open(file='student.csv', encoding='utf-8')\n",
    "file\n",
    "type(file)\n",
    "file.close()"
   ]
  },
  {
   "cell_type": "code",
   "execution_count": null,
   "metadata": {},
   "outputs": [
    {
     "name": "stdout",
     "output_type": "stream",
     "text": [
      "<class 'str'>\n"
     ]
    }
   ],
   "source": [
    "###讀取csv-2###\n",
    "with open(file='student.csv', encoding='utf-8') as file:\n",
    "    print(type(file.read()))\n",
    "\n",
    "    "
   ]
  },
  {
   "cell_type": "code",
   "execution_count": 7,
   "metadata": {},
   "outputs": [
    {
     "name": "stdout",
     "output_type": "stream",
     "text": [
      "name,chinese,english,math,history,health\n",
      "student1,73,81,73,91,54\n",
      "student2,89,52,68,75,74\n",
      "student3,60,60,51,60,90\n",
      "student4,55,55,54,84,81\n",
      "student5,76,53,99,66,74\n",
      "student6,58,94,98,58,94\n",
      "student7,79,82,98,88,91\n",
      "student8,77,83,56,52,94\n",
      "student9,91,54,77,76,73\n",
      "student10,99,80,92,81,56\n",
      "student11,72,74,76,95,69\n",
      "student12,97,63,92,67,78\n",
      "student13,86,98,69,93,97\n",
      "student14,52,64,91,88,79\n",
      "student15,72,69,70,84,56\n",
      "student16,62,84,92,50,73\n",
      "student17,89,87,64,79,92\n",
      "student18,91,97,76,87,53\n",
      "student19,68,77,50,100,53\n",
      "student20,91,79,59,89,63\n",
      "student21,56,70,84,88,68\n",
      "student22,73,54,55,73,75\n",
      "student23,84,51,81,52,51\n",
      "student24,83,75,93,64,88\n",
      "student25,83,51,85,68,77\n",
      "student26,67,72,58,58,89\n",
      "student27,82,99,99,73,53\n",
      "student28,73,58,67,74,50\n",
      "student29,77,93,72,72,73\n",
      "student30,58,56,72,100,62\n",
      "student31,51,68,93,95,97\n",
      "student32,77,100,73,56,59\n",
      "student33,70,76,62,87,77\n",
      "student34,81,97,76,100,62\n",
      "student35,86,82,55,84,93\n",
      "student36,50,59,75,53,92\n",
      "student37,83,86,50,54,88\n",
      "student38,51,70,100,66,68\n",
      "student39,98,65,50,94,64\n",
      "student40,55,50,89,78,67\n",
      "student41,68,69,58,53,52\n",
      "student42,74,92,64,68,79\n",
      "student43,50,51,74,50,75\n",
      "student44,86,73,59,57,72\n",
      "student45,54,55,55,92,79\n",
      "student46,73,86,90,69,72\n",
      "student47,64,93,66,68,55\n",
      "student48,99,89,62,51,99\n",
      "student49,69,87,88,80,67\n",
      "student50,87,98,65,91,68\n",
      "\n"
     ]
    }
   ],
   "source": [
    "with open(file='student.csv', encoding='utf-8') as file:\n",
    "    content:str = (file.read())\n",
    "\n",
    "#content:str代表此content是str實體\n",
    "print(content)"
   ]
  },
  {
   "cell_type": "code",
   "execution_count": 13,
   "metadata": {},
   "outputs": [
    {
     "name": "stdout",
     "output_type": "stream",
     "text": [
      "['name,chinese,english,math,history,health\\n', 'student1,73,81,73,91,54\\n', 'student2,89,52,68,75,74\\n', 'student3,60,60,51,60,90\\n', 'student4,55,55,54,84,81\\n', 'student5,76,53,99,66,74\\n', 'student6,58,94,98,58,94\\n', 'student7,79,82,98,88,91\\n', 'student8,77,83,56,52,94\\n', 'student9,91,54,77,76,73\\n', 'student10,99,80,92,81,56\\n', 'student11,72,74,76,95,69\\n', 'student12,97,63,92,67,78\\n', 'student13,86,98,69,93,97\\n', 'student14,52,64,91,88,79\\n', 'student15,72,69,70,84,56\\n', 'student16,62,84,92,50,73\\n', 'student17,89,87,64,79,92\\n', 'student18,91,97,76,87,53\\n', 'student19,68,77,50,100,53\\n', 'student20,91,79,59,89,63\\n', 'student21,56,70,84,88,68\\n', 'student22,73,54,55,73,75\\n', 'student23,84,51,81,52,51\\n', 'student24,83,75,93,64,88\\n', 'student25,83,51,85,68,77\\n', 'student26,67,72,58,58,89\\n', 'student27,82,99,99,73,53\\n', 'student28,73,58,67,74,50\\n', 'student29,77,93,72,72,73\\n', 'student30,58,56,72,100,62\\n', 'student31,51,68,93,95,97\\n', 'student32,77,100,73,56,59\\n', 'student33,70,76,62,87,77\\n', 'student34,81,97,76,100,62\\n', 'student35,86,82,55,84,93\\n', 'student36,50,59,75,53,92\\n', 'student37,83,86,50,54,88\\n', 'student38,51,70,100,66,68\\n', 'student39,98,65,50,94,64\\n', 'student40,55,50,89,78,67\\n', 'student41,68,69,58,53,52\\n', 'student42,74,92,64,68,79\\n', 'student43,50,51,74,50,75\\n', 'student44,86,73,59,57,72\\n', 'student45,54,55,55,92,79\\n', 'student46,73,86,90,69,72\\n', 'student47,64,93,66,68,55\\n', 'student48,99,89,62,51,99\\n', 'student49,69,87,88,80,67\\n', 'student50,87,98,65,91,68\\n']\n"
     ]
    }
   ],
   "source": [
    "with open(file='student.csv', encoding='utf-8') as file:\n",
    "    lines:list[str]= print(file.readlines())\n",
    "    lines\n",
    "\n",
    "    #:list[str]-->傳出來是list，裡面放字串\n"
   ]
  },
  {
   "cell_type": "code",
   "execution_count": null,
   "metadata": {},
   "outputs": [
    {
     "name": "stdout",
     "output_type": "stream",
     "text": [
      "['name', 'chinese', 'english', 'math', 'history', 'health']\n",
      "['student1', '73', '81', '73', '91', '54']\n",
      "['student2', '89', '52', '68', '75', '74']\n",
      "['student3', '60', '60', '51', '60', '90']\n",
      "['student4', '55', '55', '54', '84', '81']\n",
      "['student5', '76', '53', '99', '66', '74']\n",
      "['student6', '58', '94', '98', '58', '94']\n",
      "['student7', '79', '82', '98', '88', '91']\n",
      "['student8', '77', '83', '56', '52', '94']\n",
      "['student9', '91', '54', '77', '76', '73']\n",
      "['student10', '99', '80', '92', '81', '56']\n",
      "['student11', '72', '74', '76', '95', '69']\n",
      "['student12', '97', '63', '92', '67', '78']\n",
      "['student13', '86', '98', '69', '93', '97']\n",
      "['student14', '52', '64', '91', '88', '79']\n",
      "['student15', '72', '69', '70', '84', '56']\n",
      "['student16', '62', '84', '92', '50', '73']\n",
      "['student17', '89', '87', '64', '79', '92']\n",
      "['student18', '91', '97', '76', '87', '53']\n",
      "['student19', '68', '77', '50', '100', '53']\n",
      "['student20', '91', '79', '59', '89', '63']\n",
      "['student21', '56', '70', '84', '88', '68']\n",
      "['student22', '73', '54', '55', '73', '75']\n",
      "['student23', '84', '51', '81', '52', '51']\n",
      "['student24', '83', '75', '93', '64', '88']\n",
      "['student25', '83', '51', '85', '68', '77']\n",
      "['student26', '67', '72', '58', '58', '89']\n",
      "['student27', '82', '99', '99', '73', '53']\n",
      "['student28', '73', '58', '67', '74', '50']\n",
      "['student29', '77', '93', '72', '72', '73']\n",
      "['student30', '58', '56', '72', '100', '62']\n",
      "['student31', '51', '68', '93', '95', '97']\n",
      "['student32', '77', '100', '73', '56', '59']\n",
      "['student33', '70', '76', '62', '87', '77']\n",
      "['student34', '81', '97', '76', '100', '62']\n",
      "['student35', '86', '82', '55', '84', '93']\n",
      "['student36', '50', '59', '75', '53', '92']\n",
      "['student37', '83', '86', '50', '54', '88']\n",
      "['student38', '51', '70', '100', '66', '68']\n",
      "['student39', '98', '65', '50', '94', '64']\n",
      "['student40', '55', '50', '89', '78', '67']\n",
      "['student41', '68', '69', '58', '53', '52']\n",
      "['student42', '74', '92', '64', '68', '79']\n",
      "['student43', '50', '51', '74', '50', '75']\n",
      "['student44', '86', '73', '59', '57', '72']\n",
      "['student45', '54', '55', '55', '92', '79']\n",
      "['student46', '73', '86', '90', '69', '72']\n",
      "['student47', '64', '93', '66', '68', '55']\n",
      "['student48', '99', '89', '62', '51', '99']\n",
      "['student49', '69', '87', '88', '80', '67']\n",
      "['student50', '87', '98', '65', '91', '68']\n"
     ]
    }
   ],
   "source": [
    "#https://docs.python.org/zh-tw/3.13/library/csv.html\n",
    "#csv.reader(csvfile, dialect='excel', **fmtparams)\n",
    "import csv\n",
    "with open(file='student.csv', encoding='utf-8') as file:\n",
    "    reader = csv.reader(file)    #reader的實體可以for in 迴圈，一個一個抓\n",
    "    for line in reader:          #逐行讀取csv的內容\n",
    "        print(line)\n",
    "\n",
    "    "
   ]
  },
  {
   "cell_type": "code",
   "execution_count": null,
   "metadata": {},
   "outputs": [
    {
     "data": {
      "text/plain": [
       "[['name', 'chinese', 'english', 'math', 'history', 'health'],\n",
       " ['student1', '73', '81', '73', '91', '54'],\n",
       " ['student2', '89', '52', '68', '75', '74'],\n",
       " ['student3', '60', '60', '51', '60', '90'],\n",
       " ['student4', '55', '55', '54', '84', '81'],\n",
       " ['student5', '76', '53', '99', '66', '74'],\n",
       " ['student6', '58', '94', '98', '58', '94'],\n",
       " ['student7', '79', '82', '98', '88', '91'],\n",
       " ['student8', '77', '83', '56', '52', '94'],\n",
       " ['student9', '91', '54', '77', '76', '73'],\n",
       " ['student10', '99', '80', '92', '81', '56'],\n",
       " ['student11', '72', '74', '76', '95', '69'],\n",
       " ['student12', '97', '63', '92', '67', '78'],\n",
       " ['student13', '86', '98', '69', '93', '97'],\n",
       " ['student14', '52', '64', '91', '88', '79'],\n",
       " ['student15', '72', '69', '70', '84', '56'],\n",
       " ['student16', '62', '84', '92', '50', '73'],\n",
       " ['student17', '89', '87', '64', '79', '92'],\n",
       " ['student18', '91', '97', '76', '87', '53'],\n",
       " ['student19', '68', '77', '50', '100', '53'],\n",
       " ['student20', '91', '79', '59', '89', '63'],\n",
       " ['student21', '56', '70', '84', '88', '68'],\n",
       " ['student22', '73', '54', '55', '73', '75'],\n",
       " ['student23', '84', '51', '81', '52', '51'],\n",
       " ['student24', '83', '75', '93', '64', '88'],\n",
       " ['student25', '83', '51', '85', '68', '77'],\n",
       " ['student26', '67', '72', '58', '58', '89'],\n",
       " ['student27', '82', '99', '99', '73', '53'],\n",
       " ['student28', '73', '58', '67', '74', '50'],\n",
       " ['student29', '77', '93', '72', '72', '73'],\n",
       " ['student30', '58', '56', '72', '100', '62'],\n",
       " ['student31', '51', '68', '93', '95', '97'],\n",
       " ['student32', '77', '100', '73', '56', '59'],\n",
       " ['student33', '70', '76', '62', '87', '77'],\n",
       " ['student34', '81', '97', '76', '100', '62'],\n",
       " ['student35', '86', '82', '55', '84', '93'],\n",
       " ['student36', '50', '59', '75', '53', '92'],\n",
       " ['student37', '83', '86', '50', '54', '88'],\n",
       " ['student38', '51', '70', '100', '66', '68'],\n",
       " ['student39', '98', '65', '50', '94', '64'],\n",
       " ['student40', '55', '50', '89', '78', '67'],\n",
       " ['student41', '68', '69', '58', '53', '52'],\n",
       " ['student42', '74', '92', '64', '68', '79'],\n",
       " ['student43', '50', '51', '74', '50', '75'],\n",
       " ['student44', '86', '73', '59', '57', '72'],\n",
       " ['student45', '54', '55', '55', '92', '79'],\n",
       " ['student46', '73', '86', '90', '69', '72'],\n",
       " ['student47', '64', '93', '66', '68', '55'],\n",
       " ['student48', '99', '89', '62', '51', '99'],\n",
       " ['student49', '69', '87', '88', '80', '67'],\n",
       " ['student50', '87', '98', '65', '91', '68']]"
      ]
     },
     "execution_count": 15,
     "metadata": {},
     "output_type": "execute_result"
    }
   ],
   "source": [
    "import csv\n",
    "with open(file='student.csv', encoding='utf-8') as file:\n",
    "    reader = csv.reader(file)    \n",
    "    students:list = list(reader)    #這樣資料就變成二維的list\n",
    "\n",
    "students"
   ]
  },
  {
   "cell_type": "code",
   "execution_count": 22,
   "metadata": {},
   "outputs": [
    {
     "name": "stdout",
     "output_type": "stream",
     "text": [
      "['student1', '73', '81', '73', '91', '54']\n",
      "['student2', '89', '52', '68', '75', '74']\n",
      "['student3', '60', '60', '51', '60', '90']\n",
      "['student4', '55', '55', '54', '84', '81']\n",
      "['student5', '76', '53', '99', '66', '74']\n",
      "['student6', '58', '94', '98', '58', '94']\n",
      "['student7', '79', '82', '98', '88', '91']\n",
      "['student8', '77', '83', '56', '52', '94']\n",
      "['student9', '91', '54', '77', '76', '73']\n",
      "['student10', '99', '80', '92', '81', '56']\n",
      "['student11', '72', '74', '76', '95', '69']\n",
      "['student12', '97', '63', '92', '67', '78']\n",
      "['student13', '86', '98', '69', '93', '97']\n",
      "['student14', '52', '64', '91', '88', '79']\n",
      "['student15', '72', '69', '70', '84', '56']\n",
      "['student16', '62', '84', '92', '50', '73']\n",
      "['student17', '89', '87', '64', '79', '92']\n",
      "['student18', '91', '97', '76', '87', '53']\n",
      "['student19', '68', '77', '50', '100', '53']\n",
      "['student20', '91', '79', '59', '89', '63']\n",
      "['student21', '56', '70', '84', '88', '68']\n",
      "['student22', '73', '54', '55', '73', '75']\n",
      "['student23', '84', '51', '81', '52', '51']\n",
      "['student24', '83', '75', '93', '64', '88']\n",
      "['student25', '83', '51', '85', '68', '77']\n",
      "['student26', '67', '72', '58', '58', '89']\n",
      "['student27', '82', '99', '99', '73', '53']\n",
      "['student28', '73', '58', '67', '74', '50']\n",
      "['student29', '77', '93', '72', '72', '73']\n",
      "['student30', '58', '56', '72', '100', '62']\n",
      "['student31', '51', '68', '93', '95', '97']\n",
      "['student32', '77', '100', '73', '56', '59']\n",
      "['student33', '70', '76', '62', '87', '77']\n",
      "['student34', '81', '97', '76', '100', '62']\n",
      "['student35', '86', '82', '55', '84', '93']\n",
      "['student36', '50', '59', '75', '53', '92']\n",
      "['student37', '83', '86', '50', '54', '88']\n",
      "['student38', '51', '70', '100', '66', '68']\n",
      "['student39', '98', '65', '50', '94', '64']\n",
      "['student40', '55', '50', '89', '78', '67']\n",
      "['student41', '68', '69', '58', '53', '52']\n",
      "['student42', '74', '92', '64', '68', '79']\n",
      "['student43', '50', '51', '74', '50', '75']\n",
      "['student44', '86', '73', '59', '57', '72']\n",
      "['student45', '54', '55', '55', '92', '79']\n",
      "['student46', '73', '86', '90', '69', '72']\n",
      "['student47', '64', '93', '66', '68', '55']\n",
      "['student48', '99', '89', '62', '51', '99']\n",
      "['student49', '69', '87', '88', '80', '67']\n",
      "['student50', '87', '98', '65', '91', '68']\n"
     ]
    }
   ],
   "source": [
    "import csv\n",
    "with open(file='student.csv', encoding='utf-8') as file:\n",
    "    reader = csv.reader(file)  \n",
    "    next(reader)  #起始位置移到下一行\n",
    "    students:list = list(reader)    #這樣資料就變成二維的list\n",
    "\n",
    "for student in students:\n",
    "    print(student)\n",
    "\n",
    "#next(iterable)"
   ]
  },
  {
   "cell_type": "code",
   "execution_count": null,
   "metadata": {},
   "outputs": [
    {
     "name": "stdout",
     "output_type": "stream",
     "text": [
      "student1\n",
      "student2\n",
      "student3\n",
      "student4\n",
      "student5\n",
      "student6\n",
      "student7\n",
      "student8\n",
      "student9\n",
      "student10\n",
      "student11\n",
      "student12\n",
      "student13\n",
      "student14\n",
      "student15\n",
      "student16\n",
      "student17\n",
      "student18\n",
      "student19\n",
      "student20\n",
      "student21\n",
      "student22\n",
      "student23\n",
      "student24\n",
      "student25\n",
      "student26\n",
      "student27\n",
      "student28\n",
      "student29\n",
      "student30\n",
      "student31\n",
      "student32\n",
      "student33\n",
      "student34\n",
      "student35\n",
      "student36\n",
      "student37\n",
      "student38\n",
      "student39\n",
      "student40\n",
      "student41\n",
      "student42\n",
      "student43\n",
      "student44\n",
      "student45\n",
      "student46\n",
      "student47\n",
      "student48\n",
      "student49\n",
      "student50\n"
     ]
    }
   ],
   "source": [
    "import csv\n",
    "with open(file='student.csv', encoding='utf-8') as file:\n",
    "    reader = csv.reader(file)  \n",
    "    next(reader)  #起始位置移到下一行\n",
    "    students:list = list(reader)    #這樣資料就變成二維的list\n",
    "\n",
    "for student in students:\n",
    "    print(student[0])   #索引編號0\n",
    "\n"
   ]
  },
  {
   "cell_type": "code",
   "execution_count": null,
   "metadata": {},
   "outputs": [
    {
     "name": "stdout",
     "output_type": "stream",
     "text": [
      "['student20', '91', '79', '59', '89', '63']\n"
     ]
    }
   ],
   "source": [
    "import csv\n",
    "with open(file='student.csv', encoding='utf-8') as file:\n",
    "    reader = csv.reader(file)  \n",
    "    next(reader)  #起始位置移到下一行\n",
    "    students:list = list(reader)    #這樣資料就變成二維的list\n",
    "\n",
    "for student in students:\n",
    "    if student[0] == 'student20':\n",
    "        print(student)   #索引編號0\n",
    "\n"
   ]
  },
  {
   "cell_type": "markdown",
   "metadata": {},
   "source": [
    "把CSV放在python的資料結構list裡面，儲存在記憶體當中，就可以在記憶體內搜尋了"
   ]
  },
  {
   "cell_type": "code",
   "execution_count": null,
   "metadata": {},
   "outputs": [],
   "source": [
    "Dictreader\n",
    "https://docs.python.org/zh-tw/3.13/library/csv.html#csv.DictReader"
   ]
  },
  {
   "cell_type": "code",
   "execution_count": null,
   "metadata": {},
   "outputs": [
    {
     "name": "stdout",
     "output_type": "stream",
     "text": [
      "{'name': 'student1', 'chinese': '73', 'english': '81', 'math': '73', 'history': '91', 'health': '54'}\n",
      "{'name': 'student2', 'chinese': '89', 'english': '52', 'math': '68', 'history': '75', 'health': '74'}\n",
      "{'name': 'student3', 'chinese': '60', 'english': '60', 'math': '51', 'history': '60', 'health': '90'}\n",
      "{'name': 'student4', 'chinese': '55', 'english': '55', 'math': '54', 'history': '84', 'health': '81'}\n",
      "{'name': 'student5', 'chinese': '76', 'english': '53', 'math': '99', 'history': '66', 'health': '74'}\n",
      "{'name': 'student6', 'chinese': '58', 'english': '94', 'math': '98', 'history': '58', 'health': '94'}\n",
      "{'name': 'student7', 'chinese': '79', 'english': '82', 'math': '98', 'history': '88', 'health': '91'}\n",
      "{'name': 'student8', 'chinese': '77', 'english': '83', 'math': '56', 'history': '52', 'health': '94'}\n",
      "{'name': 'student9', 'chinese': '91', 'english': '54', 'math': '77', 'history': '76', 'health': '73'}\n",
      "{'name': 'student10', 'chinese': '99', 'english': '80', 'math': '92', 'history': '81', 'health': '56'}\n",
      "{'name': 'student11', 'chinese': '72', 'english': '74', 'math': '76', 'history': '95', 'health': '69'}\n",
      "{'name': 'student12', 'chinese': '97', 'english': '63', 'math': '92', 'history': '67', 'health': '78'}\n",
      "{'name': 'student13', 'chinese': '86', 'english': '98', 'math': '69', 'history': '93', 'health': '97'}\n",
      "{'name': 'student14', 'chinese': '52', 'english': '64', 'math': '91', 'history': '88', 'health': '79'}\n",
      "{'name': 'student15', 'chinese': '72', 'english': '69', 'math': '70', 'history': '84', 'health': '56'}\n",
      "{'name': 'student16', 'chinese': '62', 'english': '84', 'math': '92', 'history': '50', 'health': '73'}\n",
      "{'name': 'student17', 'chinese': '89', 'english': '87', 'math': '64', 'history': '79', 'health': '92'}\n",
      "{'name': 'student18', 'chinese': '91', 'english': '97', 'math': '76', 'history': '87', 'health': '53'}\n",
      "{'name': 'student19', 'chinese': '68', 'english': '77', 'math': '50', 'history': '100', 'health': '53'}\n",
      "{'name': 'student20', 'chinese': '91', 'english': '79', 'math': '59', 'history': '89', 'health': '63'}\n",
      "{'name': 'student21', 'chinese': '56', 'english': '70', 'math': '84', 'history': '88', 'health': '68'}\n",
      "{'name': 'student22', 'chinese': '73', 'english': '54', 'math': '55', 'history': '73', 'health': '75'}\n",
      "{'name': 'student23', 'chinese': '84', 'english': '51', 'math': '81', 'history': '52', 'health': '51'}\n",
      "{'name': 'student24', 'chinese': '83', 'english': '75', 'math': '93', 'history': '64', 'health': '88'}\n",
      "{'name': 'student25', 'chinese': '83', 'english': '51', 'math': '85', 'history': '68', 'health': '77'}\n",
      "{'name': 'student26', 'chinese': '67', 'english': '72', 'math': '58', 'history': '58', 'health': '89'}\n",
      "{'name': 'student27', 'chinese': '82', 'english': '99', 'math': '99', 'history': '73', 'health': '53'}\n",
      "{'name': 'student28', 'chinese': '73', 'english': '58', 'math': '67', 'history': '74', 'health': '50'}\n",
      "{'name': 'student29', 'chinese': '77', 'english': '93', 'math': '72', 'history': '72', 'health': '73'}\n",
      "{'name': 'student30', 'chinese': '58', 'english': '56', 'math': '72', 'history': '100', 'health': '62'}\n",
      "{'name': 'student31', 'chinese': '51', 'english': '68', 'math': '93', 'history': '95', 'health': '97'}\n",
      "{'name': 'student32', 'chinese': '77', 'english': '100', 'math': '73', 'history': '56', 'health': '59'}\n",
      "{'name': 'student33', 'chinese': '70', 'english': '76', 'math': '62', 'history': '87', 'health': '77'}\n",
      "{'name': 'student34', 'chinese': '81', 'english': '97', 'math': '76', 'history': '100', 'health': '62'}\n",
      "{'name': 'student35', 'chinese': '86', 'english': '82', 'math': '55', 'history': '84', 'health': '93'}\n",
      "{'name': 'student36', 'chinese': '50', 'english': '59', 'math': '75', 'history': '53', 'health': '92'}\n",
      "{'name': 'student37', 'chinese': '83', 'english': '86', 'math': '50', 'history': '54', 'health': '88'}\n",
      "{'name': 'student38', 'chinese': '51', 'english': '70', 'math': '100', 'history': '66', 'health': '68'}\n",
      "{'name': 'student39', 'chinese': '98', 'english': '65', 'math': '50', 'history': '94', 'health': '64'}\n",
      "{'name': 'student40', 'chinese': '55', 'english': '50', 'math': '89', 'history': '78', 'health': '67'}\n",
      "{'name': 'student41', 'chinese': '68', 'english': '69', 'math': '58', 'history': '53', 'health': '52'}\n",
      "{'name': 'student42', 'chinese': '74', 'english': '92', 'math': '64', 'history': '68', 'health': '79'}\n",
      "{'name': 'student43', 'chinese': '50', 'english': '51', 'math': '74', 'history': '50', 'health': '75'}\n",
      "{'name': 'student44', 'chinese': '86', 'english': '73', 'math': '59', 'history': '57', 'health': '72'}\n",
      "{'name': 'student45', 'chinese': '54', 'english': '55', 'math': '55', 'history': '92', 'health': '79'}\n",
      "{'name': 'student46', 'chinese': '73', 'english': '86', 'math': '90', 'history': '69', 'health': '72'}\n",
      "{'name': 'student47', 'chinese': '64', 'english': '93', 'math': '66', 'history': '68', 'health': '55'}\n",
      "{'name': 'student48', 'chinese': '99', 'english': '89', 'math': '62', 'history': '51', 'health': '99'}\n",
      "{'name': 'student49', 'chinese': '69', 'english': '87', 'math': '88', 'history': '80', 'health': '67'}\n",
      "{'name': 'student50', 'chinese': '87', 'english': '98', 'math': '65', 'history': '91', 'health': '68'}\n"
     ]
    },
    {
     "data": {
      "text/plain": [
       "dict"
      ]
     },
     "execution_count": 34,
     "metadata": {},
     "output_type": "execute_result"
    }
   ],
   "source": [
    "\n",
    "import csv\n",
    "with open(file='student.csv', encoding='utf-8') as file:\n",
    "    reader = csv.DictReader(file)  \n",
    "    students = list(reader)\n",
    "\n",
    "for student in students:\n",
    "    print((student))\n",
    "\n",
    "type(student)  #dictionary\n",
    "\n",
    "#大括號--dictionary\n",
    "    "
   ]
  },
  {
   "cell_type": "code",
   "execution_count": 37,
   "metadata": {},
   "outputs": [
    {
     "name": "stdout",
     "output_type": "stream",
     "text": [
      "{'name': 'student20', 'chinese': '91', 'english': '79', 'math': '59', 'history': '89', 'health': '63'}\n"
     ]
    }
   ],
   "source": [
    "import csv\n",
    "with open(file='student.csv', encoding='utf-8') as file:\n",
    "    reader = csv.DictReader(file)  \n",
    "    students = list(reader)\n",
    "\n",
    "for student in students:\n",
    "    if student['name'] == 'student20':\n",
    "        print((student))\n"
   ]
  }
 ],
 "metadata": {
  "kernelspec": {
   "display_name": "base",
   "language": "python",
   "name": "python3"
  },
  "language_info": {
   "codemirror_mode": {
    "name": "ipython",
    "version": 3
   },
   "file_extension": ".py",
   "mimetype": "text/x-python",
   "name": "python",
   "nbconvert_exporter": "python",
   "pygments_lexer": "ipython3",
   "version": "3.12.3"
  }
 },
 "nbformat": 4,
 "nbformat_minor": 2
}
